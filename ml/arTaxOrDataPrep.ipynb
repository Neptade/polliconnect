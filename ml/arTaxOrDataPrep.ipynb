{
 "cells": [
  {
   "cell_type": "code",
   "execution_count": 1,
   "metadata": {},
   "outputs": [],
   "source": [
    "import numpy as np \n",
    "import pandas as pd\n",
    "import os\n",
    "from glob import glob\n",
    "from tqdm.notebook import tqdm\n",
    "tqdm.pandas()\n",
    "import json\n",
    "from sklearn.model_selection import train_test_split\n",
    "import shutil\n",
    "import yaml"
   ]
  },
  {
   "cell_type": "code",
   "execution_count": 2,
   "metadata": {},
   "outputs": [],
   "source": [
    "BASE_DIR = '../datasets'\n",
    "annotation_list = glob(f'{BASE_DIR}/ArTaxOr/*/annotations/*.json')"
   ]
  },
  {
   "cell_type": "code",
   "execution_count": 3,
   "metadata": {},
   "outputs": [],
   "source": [
    "def read_json_data(jsonfile):\n",
    "    rows = {\"img_dir\":[] ,\"img_w\":[] , \"img_h\" : [], \"sp_type\": [] ,\"xc\":[] , \"yc\":[], \"bb_height\" : [] , \"bb_width\": [] , \"bb_left\":[] , \"bb_top\":[]}\n",
    "    \n",
    "    # read file\n",
    "    json_f = open(jsonfile)\n",
    "    json_f = json.load(json_f)\n",
    " \n",
    "    for region in json_f[\"regions\"]:\n",
    "        img_dir = json_f[\"asset\"][\"path\"][7:]\n",
    "        \n",
    "        sp_type = region[\"tags\"][0]\n",
    "        \n",
    "        img_w = json_f[\"asset\"][\"size\"][\"width\"]\n",
    "        img_h = json_f[\"asset\"][\"size\"][\"height\"]\n",
    "        \n",
    "        # Normalize Bounding Box \n",
    "        bb_height = region[\"boundingBox\"][\"height\"] / img_h\n",
    "        bb_width = region[\"boundingBox\"][\"width\"] / img_w\n",
    "        \n",
    "        bb_left = region[\"boundingBox\"][\"left\"] / img_w\n",
    "        bb_top = region[\"boundingBox\"][\"top\"] / img_h\n",
    "        \n",
    "        xcenter = region['boundingBox']['left']/img_w+0.5*bb_width\n",
    "        ycenetr = region['boundingBox']['top']/img_h+0.5*bb_height\n",
    "        \n",
    "        rows[\"img_dir\"].append(BASE_DIR+img_dir)\n",
    "        rows[\"sp_type\"].append(sp_type)\n",
    "        rows[\"img_w\"].append(img_w)\n",
    "        rows[\"img_h\"].append(img_h)\n",
    "        rows[\"bb_height\"].append(bb_height)\n",
    "        rows[\"bb_width\"].append(bb_width)\n",
    "        rows[\"bb_left\"].append(bb_left)\n",
    "        rows[\"bb_top\"].append(bb_top)\n",
    "        rows[\"xc\"].append(xcenter)\n",
    "        rows[\"yc\"].append(ycenetr)\n",
    "        \n",
    "    return rows"
   ]
  },
  {
   "cell_type": "code",
   "execution_count": 4,
   "metadata": {},
   "outputs": [],
   "source": [
    "df = pd.DataFrame(columns=[\"img_dir\",\"img_w\",\"img_h\",\"sp_type\",\"xc\",\"yc\",\"bb_height\",\"bb_width\",\"bb_left\",\"bb_top\"])\n",
    "df = df.astype({\"img_dir\":object,\"img_w\":np.int64,\"img_h\":np.int64,\"sp_type\":object,\"xc\":float,\"yc\":float,\"bb_height\":float,\"bb_width\":float,\"bb_left\":float,\"bb_top\":float})"
   ]
  },
  {
   "cell_type": "code",
   "execution_count": 5,
   "metadata": {},
   "outputs": [],
   "source": [
    "for i, json_file in enumerate(annotation_list):\n",
    "    df = pd.concat([df, pd.DataFrame.from_dict(read_json_data(json_file))],axis=0,ignore_index=True)"
   ]
  },
  {
   "cell_type": "code",
   "execution_count": 6,
   "metadata": {},
   "outputs": [
    {
     "name": "stdout",
     "output_type": "stream",
     "text": [
      "<class 'pandas.core.frame.DataFrame'>\n",
      "RangeIndex: 19605 entries, 0 to 19604\n",
      "Data columns (total 10 columns):\n",
      " #   Column     Non-Null Count  Dtype  \n",
      "---  ------     --------------  -----  \n",
      " 0   img_dir    19605 non-null  object \n",
      " 1   img_w      19605 non-null  int64  \n",
      " 2   img_h      19605 non-null  int64  \n",
      " 3   sp_type    19605 non-null  object \n",
      " 4   xc         19605 non-null  float64\n",
      " 5   yc         19605 non-null  float64\n",
      " 6   bb_height  19605 non-null  float64\n",
      " 7   bb_width   19605 non-null  float64\n",
      " 8   bb_left    19605 non-null  float64\n",
      " 9   bb_top     19605 non-null  float64\n",
      "dtypes: float64(6), int64(2), object(2)\n",
      "memory usage: 1.5+ MB\n"
     ]
    }
   ],
   "source": [
    "df.info()"
   ]
  },
  {
   "cell_type": "code",
   "execution_count": 7,
   "metadata": {},
   "outputs": [
    {
     "name": "stderr",
     "output_type": "stream",
     "text": [
      "C:\\Users\\loic\\AppData\\Local\\Temp\\ipykernel_32924\\3229553374.py:4: FutureWarning: Downcasting behavior in `replace` is deprecated and will be removed in a future version. To retain the old behavior, explicitly call `result.infer_objects(copy=False)`. To opt-in to the future behavior, set `pd.set_option('future.no_silent_downcasting', True)`\n",
      "  df.loc[:,\"sp_type\"] = df.loc[:,\"sp_type\"].replace(classes_name, classes_num).infer_objects(copy=False)\n"
     ]
    }
   ],
   "source": [
    "classes_name = [\"Hymenoptera\",\"Hemiptera\",\"Lepidoptera\",\"Coleoptera\",\"Diptera\",\"Araneae\",\"Odonata\"]\n",
    "classes_num = [0,1,2,3,4,5,6]\n",
    "\n",
    "df.loc[:,\"sp_type\"] = df.loc[:,\"sp_type\"].replace(classes_name, classes_num).infer_objects(copy=False)"
   ]
  },
  {
   "cell_type": "code",
   "execution_count": 8,
   "metadata": {},
   "outputs": [],
   "source": [
    "os.makedirs('../datasets/ArTaxOrYolo/test/images/', exist_ok=True)\n",
    "os.makedirs('../datasets/ArTaxOrYolo/train/images/', exist_ok=True)\n",
    "os.makedirs('../datasets/ArTaxOrYolo/test/labels/', exist_ok=True)\n",
    "os.makedirs('../datasets/ArTaxOrYolo/train/labels/', exist_ok=True)"
   ]
  },
  {
   "cell_type": "code",
   "execution_count": 9,
   "metadata": {},
   "outputs": [],
   "source": [
    "train, test = train_test_split(df, test_size=0.2)"
   ]
  },
  {
   "cell_type": "code",
   "execution_count": 10,
   "metadata": {},
   "outputs": [],
   "source": [
    "def add_data_to_folder(file_type: str, data: pd.DataFrame) -> None:\n",
    "    for index, row in tqdm(data.iterrows(), total=len(data)):\n",
    "        shutil.copy(row.loc[\"img_dir\"], f\"../datasets/ArTaxOrYolo/{file_type}/images/\")\n",
    "        with open(f'../datasets/ArTaxOrYolo/{file_type}/labels/{row.loc[\"img_dir\"].split(\"/\")[-1][:-4]}.txt', \"w\") as f:\n",
    "            f.write(f'{row[\"sp_type\"]} {row[\"xc\"]} {row[\"yc\"]} {row[\"bb_width\"]} {row[\"bb_height\"]}\\n')\n"
   ]
  },
  {
   "cell_type": "code",
   "execution_count": 11,
   "metadata": {},
   "outputs": [
    {
     "data": {
      "application/vnd.jupyter.widget-view+json": {
       "model_id": "a3a461f016414bbb9c1ce804017751dd",
       "version_major": 2,
       "version_minor": 0
      },
      "text/plain": [
       "  0%|          | 0/15684 [00:00<?, ?it/s]"
      ]
     },
     "metadata": {},
     "output_type": "display_data"
    },
    {
     "data": {
      "application/vnd.jupyter.widget-view+json": {
       "model_id": "8cf94990e8ae4622a7871017659496c6",
       "version_major": 2,
       "version_minor": 0
      },
      "text/plain": [
       "  0%|          | 0/3921 [00:00<?, ?it/s]"
      ]
     },
     "metadata": {},
     "output_type": "display_data"
    }
   ],
   "source": [
    "add_data_to_folder(\"train\" , train)\n",
    "add_data_to_folder(\"test\" , test)"
   ]
  },
  {
   "cell_type": "code",
   "execution_count": 12,
   "metadata": {},
   "outputs": [],
   "source": [
    "yaml_dict = dict(\n",
    "    train = '../../../datasets/ArTaxOrYolo/train/images',\n",
    "    val = '../../../datasets/ArTaxOrYolo/test/images',\n",
    "    nc    = len(classes_num),\n",
    "    names = classes_name\n",
    ")\n",
    "\n",
    "with open('../datasets/ArTaxOrYolo/data.yaml', 'w') as outfile:\n",
    "    yaml.dump(yaml_dict, outfile, default_flow_style=False)"
   ]
  }
 ],
 "metadata": {
  "kernelspec": {
   "display_name": "Python 3",
   "language": "python",
   "name": "python3"
  },
  "language_info": {
   "codemirror_mode": {
    "name": "ipython",
    "version": 3
   },
   "file_extension": ".py",
   "mimetype": "text/x-python",
   "name": "python",
   "nbconvert_exporter": "python",
   "pygments_lexer": "ipython3",
   "version": "3.11.5"
  }
 },
 "nbformat": 4,
 "nbformat_minor": 2
}
